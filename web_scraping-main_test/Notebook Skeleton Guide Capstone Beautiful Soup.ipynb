{
 "cells": [
  {
   "cell_type": "markdown",
   "metadata": {
    "tags": []
   },
   "source": [
    "# Capstone Webscrapping using BeautifulSoup\n",
    "\n",
    "This notebook contains guidances & tasks on the data processing for the application\n",
    "\n",
    "<img src=\"assets/imdb logo.png\" width=\"600\"/>\n",
    "\n",
    "## Requesting the Data and Creating a BeautifulSoup\n",
    "\n",
    "Let's begin with requesting the web from the site with `get` method."
   ]
  },
  {
   "cell_type": "code",
   "execution_count": 1,
   "metadata": {},
   "outputs": [],
   "source": [
    "#pip install -r requirements.txt"
   ]
  },
  {
   "cell_type": "code",
   "execution_count": 2,
   "metadata": {},
   "outputs": [],
   "source": [
    "#pip install seaborn\n"
   ]
  },
  {
   "cell_type": "code",
   "execution_count": 1,
   "metadata": {
    "ExecuteTime": {
     "end_time": "2020-01-13T05:12:23.275508Z",
     "start_time": "2020-01-13T05:12:20.009898Z"
    }
   },
   "outputs": [],
   "source": [
    "import pandas as pd\n",
    "import requests\n",
    "import numpy as np\n",
    "import seaborn as sns\n",
    "import matplotlib.pyplot as plt\n",
    "\n",
    "\n",
    "url = 'https://www.imdb.com/search/title/?release_date=2021-01-01,2021-12-31'\n",
    "response = requests.get(url)"
   ]
  },
  {
   "cell_type": "markdown",
   "metadata": {},
   "source": [
    "To visualize what exactly you get from the `request.get`, we can use .content so ee what we exactly get, in here i slice it so it won't make our screen full of the html we get from the page. You can delete the slicing if you want to see what we fully get."
   ]
  },
  {
   "cell_type": "code",
   "execution_count": 2,
   "metadata": {
    "ExecuteTime": {
     "end_time": "2020-01-13T05:12:23.290648Z",
     "start_time": "2020-01-13T05:12:23.277650Z"
    }
   },
   "outputs": [
    {
     "data": {
      "text/plain": [
       "b'\\n<!DOCTYPE html>\\n<html\\n    xmlns:og=\"http://ogp.me/ns#\"\\n    xmlns:fb=\"http://www.facebook.com/2008/fbml\">\\n    <head>\\n         \\n\\n        <meta charset=\"utf-8\">\\n        <meta http-equiv=\"X-UA-Compatible\" content=\"IE=edge\">\\n\\n\\n\\n\\n        <script type=\"text/javascript\">var IMDbTimer={starttime: new Date().getTime(),pt:\\'java\\'};</script>\\n\\n<script>\\n    if (typeof uet == \\'function\\') {\\n      uet(\"bb\", \"LoadTitle\", {wb: 1});\\n    }\\n</script>\\n  <script>(function(t){ (t.events = t.events || {})[\"csm_head_pre_'"
      ]
     },
     "execution_count": 2,
     "metadata": {},
     "output_type": "execute_result"
    }
   ],
   "source": [
    "response.content[1:500]"
   ]
  },
  {
   "cell_type": "markdown",
   "metadata": {},
   "source": [
    "As we can see we get a very unstructured and complex html, which actually contains the codes needed to show the webpages on your web browser. But we as human still confused what and where we can use that piece of code, so here where we use the beautifulsoup. Beautiful soup class will result a beautifulsoup object. Beautiful Soup transforms a complex HTML document into a complex tree of Python objects. \n",
    "\n",
    "Let's make Beautiful soup object and feel free to explore the object here."
   ]
  },
  {
   "cell_type": "code",
   "execution_count": 3,
   "metadata": {
    "ExecuteTime": {
     "end_time": "2020-01-13T05:12:23.808122Z",
     "start_time": "2020-01-13T05:12:23.292610Z"
    }
   },
   "outputs": [],
   "source": [
    "from bs4 import BeautifulSoup \n",
    "\n",
    "soup = BeautifulSoup(response.content,\"html.parser\")"
   ]
  },
  {
   "cell_type": "markdown",
   "metadata": {},
   "source": [
    "## Finding the right key to scrap the data & Extracting the right information"
   ]
  },
  {
   "cell_type": "code",
   "execution_count": 4,
   "metadata": {
    "ExecuteTime": {
     "end_time": "2020-01-13T05:12:23.878904Z",
     "start_time": "2020-01-13T05:12:23.854974Z"
    }
   },
   "outputs": [],
   "source": [
    "table = soup.findAll('div', attrs = {'class' : 'lister-item mode-advanced'})"
   ]
  },
  {
   "cell_type": "markdown",
   "metadata": {},
   "source": [
    "Find the key and put the key into the `.find()` Put all the exploring the right key at this cell. (please change this markdown with your explanation)"
   ]
  },
  {
   "cell_type": "markdown",
   "metadata": {},
   "source": [
    "Finding row length."
   ]
  },
  {
   "cell_type": "code",
   "execution_count": 5,
   "metadata": {},
   "outputs": [
    {
     "name": "stdout",
     "output_type": "stream",
     "text": [
      "50\n"
     ]
    }
   ],
   "source": [
    "row = len(table)\n",
    "print(row)"
   ]
  },
  {
   "cell_type": "markdown",
   "metadata": {},
   "source": [
    "Do the scrapping process here (please change this markdown with your explanation)"
   ]
  },
  {
   "cell_type": "code",
   "execution_count": 6,
   "metadata": {},
   "outputs": [],
   "source": [
    "movie_title = []\n",
    "rating = []\n",
    "metascore = []\n",
    "votes = []\n",
    "gross = []"
   ]
  },
  {
   "cell_type": "code",
   "execution_count": 7,
   "metadata": {},
   "outputs": [],
   "source": [
    "movie_data = soup.findAll('div' , attrs = {'class':'lister-item mode-advanced'})\n",
    "\n",
    "\n",
    "for store in movie_data:\n",
    "    name = store.h3.a.text\n",
    "    movie_title.append(name)\n",
    "    \n",
    "    rate = store.find('div', class_ = 'inline-block ratings-imdb-rating').text.replace('\\n', '')\n",
    "    rating.append(rate)\n",
    "    \n",
    "    meta = store.find('span', class_ = 'metascore').text.replace(' ','') if store.find('span', class_ = 'metascore') else '0'\n",
    "    metascore.append(meta)\n",
    "        \n",
    "    value = store.find_all('span', attrs = {'name': 'nv'})\n",
    "\n",
    "    vote = value[0].text\n",
    "    votes.append(vote)\n",
    "    \n",
    "    grosses = value[1].text if len(value) >1 else '0'\n",
    "    gross.append(grosses)\n",
    "    \n",
    "    \n"
   ]
  },
  {
   "cell_type": "markdown",
   "metadata": {},
   "source": [
    "## Creating data frame & Data wrangling \n",
    "### Informasi judul , imdb rating , metascore, dan votes pada web imdb\n",
    "#### Tahun 2021"
   ]
  },
  {
   "cell_type": "markdown",
   "metadata": {},
   "source": [
    "Put the array into dataframe"
   ]
  },
  {
   "cell_type": "code",
   "execution_count": 8,
   "metadata": {
    "ExecuteTime": {
     "end_time": "2020-01-13T05:12:41.517372Z",
     "start_time": "2020-01-13T05:12:29.130015Z"
    }
   },
   "outputs": [],
   "source": [
    "best_50 = pd.DataFrame({'Movie Title': movie_title, 'Rate': rating, 'Metascore': metascore, 'Votes': votes})\n"
   ]
  },
  {
   "cell_type": "code",
   "execution_count": 9,
   "metadata": {},
   "outputs": [
    {
     "data": {
      "text/html": [
       "<div>\n",
       "<style scoped>\n",
       "    .dataframe tbody tr th:only-of-type {\n",
       "        vertical-align: middle;\n",
       "    }\n",
       "\n",
       "    .dataframe tbody tr th {\n",
       "        vertical-align: top;\n",
       "    }\n",
       "\n",
       "    .dataframe thead th {\n",
       "        text-align: right;\n",
       "    }\n",
       "</style>\n",
       "<table border=\"1\" class=\"dataframe\">\n",
       "  <thead>\n",
       "    <tr style=\"text-align: right;\">\n",
       "      <th></th>\n",
       "      <th>Movie Title</th>\n",
       "      <th>Rate</th>\n",
       "      <th>Metascore</th>\n",
       "      <th>Votes</th>\n",
       "    </tr>\n",
       "  </thead>\n",
       "  <tbody>\n",
       "    <tr>\n",
       "      <th>1</th>\n",
       "      <td>The Black Phone</td>\n",
       "      <td>7.3</td>\n",
       "      <td>65</td>\n",
       "      <td>22,738</td>\n",
       "    </tr>\n",
       "    <tr>\n",
       "      <th>2</th>\n",
       "      <td>Only Murders in the Building</td>\n",
       "      <td>8.1</td>\n",
       "      <td>0</td>\n",
       "      <td>73,123</td>\n",
       "    </tr>\n",
       "    <tr>\n",
       "      <th>3</th>\n",
       "      <td>Sing 2</td>\n",
       "      <td>7.4</td>\n",
       "      <td>49</td>\n",
       "      <td>55,178</td>\n",
       "    </tr>\n",
       "    <tr>\n",
       "      <th>4</th>\n",
       "      <td>Spider-Man: No Way Home</td>\n",
       "      <td>8.3</td>\n",
       "      <td>71</td>\n",
       "      <td>671,726</td>\n",
       "    </tr>\n",
       "    <tr>\n",
       "      <th>5</th>\n",
       "      <td>1883</td>\n",
       "      <td>8.8</td>\n",
       "      <td>0</td>\n",
       "      <td>55,922</td>\n",
       "    </tr>\n",
       "    <tr>\n",
       "      <th>6</th>\n",
       "      <td>No Time to Die</td>\n",
       "      <td>7.3</td>\n",
       "      <td>68</td>\n",
       "      <td>372,321</td>\n",
       "    </tr>\n",
       "    <tr>\n",
       "      <th>7</th>\n",
       "      <td>Superman &amp; Lois</td>\n",
       "      <td>7.8</td>\n",
       "      <td>0</td>\n",
       "      <td>30,506</td>\n",
       "    </tr>\n",
       "    <tr>\n",
       "      <th>8</th>\n",
       "      <td>Last Night in Soho</td>\n",
       "      <td>7.1</td>\n",
       "      <td>65</td>\n",
       "      <td>112,409</td>\n",
       "    </tr>\n",
       "    <tr>\n",
       "      <th>9</th>\n",
       "      <td>Hacks</td>\n",
       "      <td>8.2</td>\n",
       "      <td>0</td>\n",
       "      <td>25,076</td>\n",
       "    </tr>\n",
       "    <tr>\n",
       "      <th>10</th>\n",
       "      <td>Dune: Part One</td>\n",
       "      <td>8.0</td>\n",
       "      <td>74</td>\n",
       "      <td>587,426</td>\n",
       "    </tr>\n",
       "    <tr>\n",
       "      <th>11</th>\n",
       "      <td>Ghostbusters: Afterlife</td>\n",
       "      <td>7.1</td>\n",
       "      <td>45</td>\n",
       "      <td>161,597</td>\n",
       "    </tr>\n",
       "    <tr>\n",
       "      <th>12</th>\n",
       "      <td>Mad God</td>\n",
       "      <td>6.8</td>\n",
       "      <td>80</td>\n",
       "      <td>4,542</td>\n",
       "    </tr>\n",
       "    <tr>\n",
       "      <th>13</th>\n",
       "      <td>The Book of Boba Fett</td>\n",
       "      <td>7.3</td>\n",
       "      <td>0</td>\n",
       "      <td>133,474</td>\n",
       "    </tr>\n",
       "    <tr>\n",
       "      <th>14</th>\n",
       "      <td>You Don't Know Me</td>\n",
       "      <td>6.9</td>\n",
       "      <td>0</td>\n",
       "      <td>3,852</td>\n",
       "    </tr>\n",
       "    <tr>\n",
       "      <th>15</th>\n",
       "      <td>WandaVision</td>\n",
       "      <td>7.9</td>\n",
       "      <td>0</td>\n",
       "      <td>300,902</td>\n",
       "    </tr>\n",
       "    <tr>\n",
       "      <th>16</th>\n",
       "      <td>Pleasure</td>\n",
       "      <td>6.3</td>\n",
       "      <td>75</td>\n",
       "      <td>12,103</td>\n",
       "    </tr>\n",
       "    <tr>\n",
       "      <th>17</th>\n",
       "      <td>Old</td>\n",
       "      <td>5.8</td>\n",
       "      <td>55</td>\n",
       "      <td>109,131</td>\n",
       "    </tr>\n",
       "    <tr>\n",
       "      <th>18</th>\n",
       "      <td>Eternals</td>\n",
       "      <td>6.3</td>\n",
       "      <td>52</td>\n",
       "      <td>317,880</td>\n",
       "    </tr>\n",
       "    <tr>\n",
       "      <th>19</th>\n",
       "      <td>Invincible</td>\n",
       "      <td>8.7</td>\n",
       "      <td>0</td>\n",
       "      <td>120,870</td>\n",
       "    </tr>\n",
       "    <tr>\n",
       "      <th>20</th>\n",
       "      <td>House of Gucci</td>\n",
       "      <td>6.6</td>\n",
       "      <td>59</td>\n",
       "      <td>110,305</td>\n",
       "    </tr>\n",
       "    <tr>\n",
       "      <th>21</th>\n",
       "      <td>Resident Evil: Welcome to Raccoon City</td>\n",
       "      <td>5.2</td>\n",
       "      <td>44</td>\n",
       "      <td>46,811</td>\n",
       "    </tr>\n",
       "    <tr>\n",
       "      <th>22</th>\n",
       "      <td>Licorice Pizza</td>\n",
       "      <td>7.3</td>\n",
       "      <td>90</td>\n",
       "      <td>88,780</td>\n",
       "    </tr>\n",
       "    <tr>\n",
       "      <th>23</th>\n",
       "      <td>Ojing-eo geim</td>\n",
       "      <td>8.0</td>\n",
       "      <td>0</td>\n",
       "      <td>424,703</td>\n",
       "    </tr>\n",
       "    <tr>\n",
       "      <th>24</th>\n",
       "      <td>Verdens verste menneske</td>\n",
       "      <td>7.9</td>\n",
       "      <td>90</td>\n",
       "      <td>50,391</td>\n",
       "    </tr>\n",
       "    <tr>\n",
       "      <th>25</th>\n",
       "      <td>Free Guy</td>\n",
       "      <td>7.1</td>\n",
       "      <td>62</td>\n",
       "      <td>348,478</td>\n",
       "    </tr>\n",
       "    <tr>\n",
       "      <th>26</th>\n",
       "      <td>Encanto</td>\n",
       "      <td>7.2</td>\n",
       "      <td>75</td>\n",
       "      <td>205,093</td>\n",
       "    </tr>\n",
       "    <tr>\n",
       "      <th>27</th>\n",
       "      <td>Yellowjackets</td>\n",
       "      <td>7.9</td>\n",
       "      <td>0</td>\n",
       "      <td>40,036</td>\n",
       "    </tr>\n",
       "    <tr>\n",
       "      <th>28</th>\n",
       "      <td>Arcane: League of Legends</td>\n",
       "      <td>9.0</td>\n",
       "      <td>0</td>\n",
       "      <td>184,276</td>\n",
       "    </tr>\n",
       "    <tr>\n",
       "      <th>29</th>\n",
       "      <td>Loki</td>\n",
       "      <td>8.2</td>\n",
       "      <td>0</td>\n",
       "      <td>290,816</td>\n",
       "    </tr>\n",
       "    <tr>\n",
       "      <th>30</th>\n",
       "      <td>The Card Counter</td>\n",
       "      <td>6.3</td>\n",
       "      <td>77</td>\n",
       "      <td>29,080</td>\n",
       "    </tr>\n",
       "    <tr>\n",
       "      <th>31</th>\n",
       "      <td>The Matrix Resurrections</td>\n",
       "      <td>5.7</td>\n",
       "      <td>63</td>\n",
       "      <td>233,973</td>\n",
       "    </tr>\n",
       "    <tr>\n",
       "      <th>32</th>\n",
       "      <td>Operation Mincemeat</td>\n",
       "      <td>6.6</td>\n",
       "      <td>65</td>\n",
       "      <td>17,349</td>\n",
       "    </tr>\n",
       "    <tr>\n",
       "      <th>33</th>\n",
       "      <td>Shang-Chi and the Legend of the Ten Rings</td>\n",
       "      <td>7.4</td>\n",
       "      <td>71</td>\n",
       "      <td>360,692</td>\n",
       "    </tr>\n",
       "    <tr>\n",
       "      <th>34</th>\n",
       "      <td>The King's Man</td>\n",
       "      <td>6.3</td>\n",
       "      <td>44</td>\n",
       "      <td>133,203</td>\n",
       "    </tr>\n",
       "    <tr>\n",
       "      <th>35</th>\n",
       "      <td>Marcel the Shell with Shoes On</td>\n",
       "      <td>8.2</td>\n",
       "      <td>81</td>\n",
       "      <td>587</td>\n",
       "    </tr>\n",
       "    <tr>\n",
       "      <th>36</th>\n",
       "      <td>Don't Look Up</td>\n",
       "      <td>7.2</td>\n",
       "      <td>49</td>\n",
       "      <td>511,977</td>\n",
       "    </tr>\n",
       "    <tr>\n",
       "      <th>37</th>\n",
       "      <td>Walker</td>\n",
       "      <td>5.9</td>\n",
       "      <td>0</td>\n",
       "      <td>11,104</td>\n",
       "    </tr>\n",
       "    <tr>\n",
       "      <th>38</th>\n",
       "      <td>The Outlaws</td>\n",
       "      <td>7.6</td>\n",
       "      <td>0</td>\n",
       "      <td>8,921</td>\n",
       "    </tr>\n",
       "    <tr>\n",
       "      <th>39</th>\n",
       "      <td>The Suicide Squad</td>\n",
       "      <td>7.2</td>\n",
       "      <td>72</td>\n",
       "      <td>334,651</td>\n",
       "    </tr>\n",
       "    <tr>\n",
       "      <th>40</th>\n",
       "      <td>The French Dispatch</td>\n",
       "      <td>7.2</td>\n",
       "      <td>74</td>\n",
       "      <td>110,574</td>\n",
       "    </tr>\n",
       "    <tr>\n",
       "      <th>41</th>\n",
       "      <td>CODA</td>\n",
       "      <td>8.0</td>\n",
       "      <td>74</td>\n",
       "      <td>116,067</td>\n",
       "    </tr>\n",
       "    <tr>\n",
       "      <th>42</th>\n",
       "      <td>Nightmare Alley</td>\n",
       "      <td>7.0</td>\n",
       "      <td>70</td>\n",
       "      <td>129,324</td>\n",
       "    </tr>\n",
       "    <tr>\n",
       "      <th>43</th>\n",
       "      <td>Dopesick</td>\n",
       "      <td>8.6</td>\n",
       "      <td>0</td>\n",
       "      <td>48,834</td>\n",
       "    </tr>\n",
       "    <tr>\n",
       "      <th>44</th>\n",
       "      <td>Joe Pickett</td>\n",
       "      <td>7.5</td>\n",
       "      <td>0</td>\n",
       "      <td>1,881</td>\n",
       "    </tr>\n",
       "    <tr>\n",
       "      <th>45</th>\n",
       "      <td>The Last Duel</td>\n",
       "      <td>7.4</td>\n",
       "      <td>67</td>\n",
       "      <td>144,917</td>\n",
       "    </tr>\n",
       "    <tr>\n",
       "      <th>46</th>\n",
       "      <td>Physical</td>\n",
       "      <td>7.3</td>\n",
       "      <td>0</td>\n",
       "      <td>8,200</td>\n",
       "    </tr>\n",
       "    <tr>\n",
       "      <th>47</th>\n",
       "      <td>The Wheel of Time</td>\n",
       "      <td>7.1</td>\n",
       "      <td>0</td>\n",
       "      <td>96,759</td>\n",
       "    </tr>\n",
       "    <tr>\n",
       "      <th>48</th>\n",
       "      <td>Red Notice</td>\n",
       "      <td>6.3</td>\n",
       "      <td>37</td>\n",
       "      <td>262,271</td>\n",
       "    </tr>\n",
       "    <tr>\n",
       "      <th>49</th>\n",
       "      <td>Wrath of Man</td>\n",
       "      <td>7.1</td>\n",
       "      <td>57</td>\n",
       "      <td>166,463</td>\n",
       "    </tr>\n",
       "    <tr>\n",
       "      <th>50</th>\n",
       "      <td>Venom: Let There Be Carnage</td>\n",
       "      <td>5.9</td>\n",
       "      <td>49</td>\n",
       "      <td>209,263</td>\n",
       "    </tr>\n",
       "  </tbody>\n",
       "</table>\n",
       "</div>"
      ],
      "text/plain": [
       "                                  Movie Title Rate Metascore    Votes\n",
       "1                             The Black Phone  7.3        65   22,738\n",
       "2                Only Murders in the Building  8.1         0   73,123\n",
       "3                                      Sing 2  7.4        49   55,178\n",
       "4                     Spider-Man: No Way Home  8.3        71  671,726\n",
       "5                                        1883  8.8         0   55,922\n",
       "6                              No Time to Die  7.3        68  372,321\n",
       "7                             Superman & Lois  7.8         0   30,506\n",
       "8                          Last Night in Soho  7.1        65  112,409\n",
       "9                                       Hacks  8.2         0   25,076\n",
       "10                             Dune: Part One  8.0        74  587,426\n",
       "11                    Ghostbusters: Afterlife  7.1        45  161,597\n",
       "12                                    Mad God  6.8        80    4,542\n",
       "13                      The Book of Boba Fett  7.3         0  133,474\n",
       "14                          You Don't Know Me  6.9         0    3,852\n",
       "15                                WandaVision  7.9         0  300,902\n",
       "16                                   Pleasure  6.3        75   12,103\n",
       "17                                        Old  5.8        55  109,131\n",
       "18                                   Eternals  6.3        52  317,880\n",
       "19                                 Invincible  8.7         0  120,870\n",
       "20                             House of Gucci  6.6        59  110,305\n",
       "21     Resident Evil: Welcome to Raccoon City  5.2        44   46,811\n",
       "22                             Licorice Pizza  7.3        90   88,780\n",
       "23                              Ojing-eo geim  8.0         0  424,703\n",
       "24                    Verdens verste menneske  7.9        90   50,391\n",
       "25                                   Free Guy  7.1        62  348,478\n",
       "26                                    Encanto  7.2        75  205,093\n",
       "27                              Yellowjackets  7.9         0   40,036\n",
       "28                  Arcane: League of Legends  9.0         0  184,276\n",
       "29                                       Loki  8.2         0  290,816\n",
       "30                           The Card Counter  6.3        77   29,080\n",
       "31                   The Matrix Resurrections  5.7        63  233,973\n",
       "32                        Operation Mincemeat  6.6        65   17,349\n",
       "33  Shang-Chi and the Legend of the Ten Rings  7.4        71  360,692\n",
       "34                             The King's Man  6.3        44  133,203\n",
       "35             Marcel the Shell with Shoes On  8.2        81      587\n",
       "36                              Don't Look Up  7.2        49  511,977\n",
       "37                                     Walker  5.9         0   11,104\n",
       "38                                The Outlaws  7.6         0    8,921\n",
       "39                          The Suicide Squad  7.2        72  334,651\n",
       "40                        The French Dispatch  7.2        74  110,574\n",
       "41                                       CODA  8.0        74  116,067\n",
       "42                            Nightmare Alley  7.0        70  129,324\n",
       "43                                   Dopesick  8.6         0   48,834\n",
       "44                                Joe Pickett  7.5         0    1,881\n",
       "45                              The Last Duel  7.4        67  144,917\n",
       "46                                   Physical  7.3         0    8,200\n",
       "47                          The Wheel of Time  7.1         0   96,759\n",
       "48                                 Red Notice  6.3        37  262,271\n",
       "49                               Wrath of Man  7.1        57  166,463\n",
       "50                Venom: Let There Be Carnage  5.9        49  209,263"
      ]
     },
     "execution_count": 9,
     "metadata": {},
     "output_type": "execute_result"
    }
   ],
   "source": [
    "index = pd.Index(range(1, 51, 1))\n",
    "imdb_50 = best_50.set_index(index)\n",
    "imdb_50"
   ]
  },
  {
   "cell_type": "code",
   "execution_count": 10,
   "metadata": {},
   "outputs": [
    {
     "data": {
      "text/plain": [
       "Movie Title    object\n",
       "Rate           object\n",
       "Metascore      object\n",
       "Votes          object\n",
       "dtype: object"
      ]
     },
     "execution_count": 10,
     "metadata": {},
     "output_type": "execute_result"
    }
   ],
   "source": [
    "imdb_50.dtypes"
   ]
  },
  {
   "cell_type": "markdown",
   "metadata": {},
   "source": [
    "Do the data cleaning here (please change this markdown with your explanation of what you do for data wrangling)"
   ]
  },
  {
   "cell_type": "code",
   "execution_count": 11,
   "metadata": {},
   "outputs": [
    {
     "data": {
      "text/html": [
       "<div>\n",
       "<style scoped>\n",
       "    .dataframe tbody tr th:only-of-type {\n",
       "        vertical-align: middle;\n",
       "    }\n",
       "\n",
       "    .dataframe tbody tr th {\n",
       "        vertical-align: top;\n",
       "    }\n",
       "\n",
       "    .dataframe thead th {\n",
       "        text-align: right;\n",
       "    }\n",
       "</style>\n",
       "<table border=\"1\" class=\"dataframe\">\n",
       "  <thead>\n",
       "    <tr style=\"text-align: right;\">\n",
       "      <th></th>\n",
       "      <th>Movie Title</th>\n",
       "      <th>Rate</th>\n",
       "      <th>Metascore</th>\n",
       "      <th>Votes</th>\n",
       "    </tr>\n",
       "  </thead>\n",
       "  <tbody>\n",
       "    <tr>\n",
       "      <th>1</th>\n",
       "      <td>The Black Phone</td>\n",
       "      <td>7.3</td>\n",
       "      <td>65</td>\n",
       "      <td>22738</td>\n",
       "    </tr>\n",
       "    <tr>\n",
       "      <th>2</th>\n",
       "      <td>Only Murders in the Building</td>\n",
       "      <td>8.1</td>\n",
       "      <td>0</td>\n",
       "      <td>73123</td>\n",
       "    </tr>\n",
       "    <tr>\n",
       "      <th>3</th>\n",
       "      <td>Sing 2</td>\n",
       "      <td>7.4</td>\n",
       "      <td>49</td>\n",
       "      <td>55178</td>\n",
       "    </tr>\n",
       "    <tr>\n",
       "      <th>4</th>\n",
       "      <td>Spider-Man: No Way Home</td>\n",
       "      <td>8.3</td>\n",
       "      <td>71</td>\n",
       "      <td>671726</td>\n",
       "    </tr>\n",
       "    <tr>\n",
       "      <th>5</th>\n",
       "      <td>1883</td>\n",
       "      <td>8.8</td>\n",
       "      <td>0</td>\n",
       "      <td>55922</td>\n",
       "    </tr>\n",
       "  </tbody>\n",
       "</table>\n",
       "</div>"
      ],
      "text/plain": [
       "                    Movie Title  Rate  Metascore   Votes\n",
       "1               The Black Phone   7.3         65   22738\n",
       "2  Only Murders in the Building   8.1          0   73123\n",
       "3                        Sing 2   7.4         49   55178\n",
       "4       Spider-Man: No Way Home   8.3         71  671726\n",
       "5                          1883   8.8          0   55922"
      ]
     },
     "execution_count": 11,
     "metadata": {},
     "output_type": "execute_result"
    }
   ],
   "source": [
    "imdb_50['Rate'] = imdb_50['Rate'].astype('float') \n",
    "imdb_50['Metascore'] = imdb_50['Metascore'].astype('int')\n",
    "imdb_50['Votes'] = imdb_50['Votes'].str.replace(',','').astype('int')\n",
    "imdb_50.head()"
   ]
  },
  {
   "cell_type": "code",
   "execution_count": 12,
   "metadata": {},
   "outputs": [
    {
     "data": {
      "text/plain": [
       "Movie Title     object\n",
       "Rate           float64\n",
       "Metascore        int64\n",
       "Votes            int64\n",
       "dtype: object"
      ]
     },
     "execution_count": 12,
     "metadata": {},
     "output_type": "execute_result"
    }
   ],
   "source": [
    "imdb_50.dtypes"
   ]
  },
  {
   "cell_type": "code",
   "execution_count": 13,
   "metadata": {},
   "outputs": [
    {
     "data": {
      "text/html": [
       "<div>\n",
       "<style scoped>\n",
       "    .dataframe tbody tr th:only-of-type {\n",
       "        vertical-align: middle;\n",
       "    }\n",
       "\n",
       "    .dataframe tbody tr th {\n",
       "        vertical-align: top;\n",
       "    }\n",
       "\n",
       "    .dataframe thead th {\n",
       "        text-align: right;\n",
       "    }\n",
       "</style>\n",
       "<table border=\"1\" class=\"dataframe\">\n",
       "  <thead>\n",
       "    <tr style=\"text-align: right;\">\n",
       "      <th></th>\n",
       "      <th>Rate</th>\n",
       "      <th>Metascore</th>\n",
       "      <th>Votes</th>\n",
       "    </tr>\n",
       "  </thead>\n",
       "  <tbody>\n",
       "    <tr>\n",
       "      <th>count</th>\n",
       "      <td>50.000000</td>\n",
       "      <td>50.000000</td>\n",
       "      <td>50.000000</td>\n",
       "    </tr>\n",
       "    <tr>\n",
       "      <th>mean</th>\n",
       "      <td>7.272000</td>\n",
       "      <td>41.380000</td>\n",
       "      <td>157931.100000</td>\n",
       "    </tr>\n",
       "    <tr>\n",
       "      <th>std</th>\n",
       "      <td>0.852856</td>\n",
       "      <td>33.150178</td>\n",
       "      <td>160268.227882</td>\n",
       "    </tr>\n",
       "    <tr>\n",
       "      <th>min</th>\n",
       "      <td>5.200000</td>\n",
       "      <td>0.000000</td>\n",
       "      <td>587.000000</td>\n",
       "    </tr>\n",
       "    <tr>\n",
       "      <th>25%</th>\n",
       "      <td>6.825000</td>\n",
       "      <td>0.000000</td>\n",
       "      <td>32888.500000</td>\n",
       "    </tr>\n",
       "    <tr>\n",
       "      <th>50%</th>\n",
       "      <td>7.300000</td>\n",
       "      <td>50.500000</td>\n",
       "      <td>111491.500000</td>\n",
       "    </tr>\n",
       "    <tr>\n",
       "      <th>75%</th>\n",
       "      <td>7.900000</td>\n",
       "      <td>70.750000</td>\n",
       "      <td>227795.500000</td>\n",
       "    </tr>\n",
       "    <tr>\n",
       "      <th>max</th>\n",
       "      <td>9.000000</td>\n",
       "      <td>90.000000</td>\n",
       "      <td>671726.000000</td>\n",
       "    </tr>\n",
       "  </tbody>\n",
       "</table>\n",
       "</div>"
      ],
      "text/plain": [
       "            Rate  Metascore          Votes\n",
       "count  50.000000  50.000000      50.000000\n",
       "mean    7.272000  41.380000  157931.100000\n",
       "std     0.852856  33.150178  160268.227882\n",
       "min     5.200000   0.000000     587.000000\n",
       "25%     6.825000   0.000000   32888.500000\n",
       "50%     7.300000  50.500000  111491.500000\n",
       "75%     7.900000  70.750000  227795.500000\n",
       "max     9.000000  90.000000  671726.000000"
      ]
     },
     "execution_count": 13,
     "metadata": {},
     "output_type": "execute_result"
    }
   ],
   "source": [
    "imdb_50.describe()"
   ]
  },
  {
   "cell_type": "code",
   "execution_count": 14,
   "metadata": {},
   "outputs": [
    {
     "data": {
      "text/html": [
       "<div>\n",
       "<style scoped>\n",
       "    .dataframe tbody tr th:only-of-type {\n",
       "        vertical-align: middle;\n",
       "    }\n",
       "\n",
       "    .dataframe tbody tr th {\n",
       "        vertical-align: top;\n",
       "    }\n",
       "\n",
       "    .dataframe thead th {\n",
       "        text-align: right;\n",
       "    }\n",
       "</style>\n",
       "<table border=\"1\" class=\"dataframe\">\n",
       "  <thead>\n",
       "    <tr style=\"text-align: right;\">\n",
       "      <th></th>\n",
       "      <th>Votes</th>\n",
       "    </tr>\n",
       "    <tr>\n",
       "      <th>Movie Title</th>\n",
       "      <th></th>\n",
       "    </tr>\n",
       "  </thead>\n",
       "  <tbody>\n",
       "    <tr>\n",
       "      <th>Spider-Man: No Way Home</th>\n",
       "      <td>671726</td>\n",
       "    </tr>\n",
       "    <tr>\n",
       "      <th>Dune: Part One</th>\n",
       "      <td>587426</td>\n",
       "    </tr>\n",
       "    <tr>\n",
       "      <th>Don't Look Up</th>\n",
       "      <td>511977</td>\n",
       "    </tr>\n",
       "    <tr>\n",
       "      <th>Ojing-eo geim</th>\n",
       "      <td>424703</td>\n",
       "    </tr>\n",
       "    <tr>\n",
       "      <th>No Time to Die</th>\n",
       "      <td>372321</td>\n",
       "    </tr>\n",
       "    <tr>\n",
       "      <th>Shang-Chi and the Legend of the Ten Rings</th>\n",
       "      <td>360692</td>\n",
       "    </tr>\n",
       "    <tr>\n",
       "      <th>Free Guy</th>\n",
       "      <td>348478</td>\n",
       "    </tr>\n",
       "  </tbody>\n",
       "</table>\n",
       "</div>"
      ],
      "text/plain": [
       "                                            Votes\n",
       "Movie Title                                      \n",
       "Spider-Man: No Way Home                    671726\n",
       "Dune: Part One                             587426\n",
       "Don't Look Up                              511977\n",
       "Ojing-eo geim                              424703\n",
       "No Time to Die                             372321\n",
       "Shang-Chi and the Legend of the Ten Rings  360692\n",
       "Free Guy                                   348478"
      ]
     },
     "execution_count": 14,
     "metadata": {},
     "output_type": "execute_result"
    }
   ],
   "source": [
    "top7 = imdb_50.nlargest(7,'Votes')[['Movie Title','Votes']].set_index('Movie Title')\n",
    "top7"
   ]
  },
  {
   "cell_type": "markdown",
   "metadata": {},
   "source": [
    "Data visualisation (please change this markdown with your explanation of what you do for data wrangling)"
   ]
  },
  {
   "cell_type": "code",
   "execution_count": 15,
   "metadata": {},
   "outputs": [
    {
     "data": {
      "text/plain": [
       "<AxesSubplot:xlabel='Votes', ylabel='Movie Title'>"
      ]
     },
     "execution_count": 15,
     "metadata": {},
     "output_type": "execute_result"
    },
    {
     "data": {
      "image/png": "[encoded data removed]",
      "text/plain": [
       "<Figure size 432x288 with 1 Axes>"
      ]
     },
     "metadata": {
      "needs_background": "light"
     },
     "output_type": "display_data"
    }
   ],
   "source": [
    "#PLOT 7 FILM TERATAS\n",
    "sns.barplot(x=\"Votes\", y=top7.index, data=top7)"
   ]
  },
  {
   "cell_type": "markdown",
   "metadata": {},
   "source": [
    "\n",
    "Conclusion: \n",
    "- Film paling populer pada tahun 2021 dengan menggunakan hasil voting adalah Spider-man: No Way Home  dengan jumlah 671.726 vote (sumber: imdb, tanggal 9 Juli 2022, pukul 10.56 WIB)"
   ]
  },
  {
   "cell_type": "markdown",
   "metadata": {},
   "source": [
    "### Implementing your webscrapping to the flask dashboard\n",
    "\n",
    "- Copy paste all of your web scrapping process to the desired position on the `app.py`\n",
    "- Changing the title of the dasboard at `index.html`"
   ]
  },
  {
   "cell_type": "markdown",
   "metadata": {},
   "source": [
    "### Extra Challange\n",
    "\n",
    "This will be not included to the scoring. \n",
    "\n",
    "- You can create additional analysis from the data.\n",
    "- Implement it to the dashboard with at `app.py` dan `index.html`."
   ]
  }
 ],
 "metadata": {
  "kernelspec": {
   "display_name": "capstone_da",
   "language": "python",
   "name": "capstone_da"
  },
  "language_info": {
   "codemirror_mode": {
    "name": "ipython",
    "version": 3
   },
   "file_extension": ".py",
   "mimetype": "text/x-python",
   "name": "python",
   "nbconvert_exporter": "python",
   "pygments_lexer": "ipython3",
   "version": "3.8.13"
  }
 },
 "nbformat": 4,
 "nbformat_minor": 4
}
